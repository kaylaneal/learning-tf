{
 "cells": [
  {
   "cell_type": "markdown",
   "id": "5c8b5e16",
   "metadata": {},
   "source": [
    "https://pythonistaplanet.com/image-classification-using-deep-learning/"
   ]
  },
  {
   "cell_type": "code",
   "execution_count": 1,
   "id": "e940ca49",
   "metadata": {},
   "outputs": [],
   "source": [
    "# import:\n",
    "import tensorflow as tf\n",
    "from tensorflow.keras.models import Sequential\n",
    "from tensorflow.keras.layers import Conv2D, Activation, MaxPooling2D, Dense, Flatten, Dropout, InputLayer\n",
    "from tensorflow.keras.preprocessing import image\n",
    "from tensorflow.keras.preprocessing.image import ImageDataGenerator\n",
    "\n",
    "import numpy as np\n",
    "\n",
    "import glob\n",
    "\n",
    "from IPython.display import display\n",
    "from PIL import Image\n",
    "\n",
    "from matplotlib import pyplot as plt"
   ]
  },
  {
   "cell_type": "code",
   "execution_count": 2,
   "id": "d05006cb",
   "metadata": {},
   "outputs": [],
   "source": [
    "classifier = Sequential()"
   ]
  },
  {
   "cell_type": "code",
   "execution_count": 3,
   "id": "e777ca3d",
   "metadata": {},
   "outputs": [],
   "source": [
    "classifier.add(InputLayer(input_shape = (64, 64, 3)))\n",
    "classifier.add(Conv2D(32, (3,3)))\n",
    "classifier.add(Activation('relu'))\n",
    "classifier.add(MaxPooling2D(pool_size = (2,2)))\n",
    "classifier.add(Conv2D(32, (3,3)))\n",
    "classifier.add(Activation('relu'))\n",
    "classifier.add(MaxPooling2D(pool_size = (2,2)))\n",
    "classifier.add(Conv2D(32, (3,3)))\n",
    "classifier.add(Activation('relu'))\n",
    "classifier.add(MaxPooling2D(pool_size = (2,2)))\n",
    "\n",
    "classifier.add(Flatten())\n",
    "classifier.add(Dense(64))\n",
    "classifier.add(Activation('relu'))\n",
    "classifier.add(Dropout(0.5))\n",
    "\n",
    "classifier.add(Dense(1))\n",
    "classifier.add(Activation('sigmoid'))"
   ]
  },
  {
   "cell_type": "code",
   "execution_count": 4,
   "id": "7f569789",
   "metadata": {},
   "outputs": [],
   "source": [
    "classifier.compile(optimizer = 'rmsprop', loss = 'binary_crossentropy', metrics = ['accuracy'])"
   ]
  },
  {
   "cell_type": "code",
   "execution_count": 5,
   "id": "1662ea28",
   "metadata": {},
   "outputs": [],
   "source": [
    "trainGen = ImageDataGenerator(rescale = 1./255, shear_range = 0.2, zoom_range = 0.2, horizontal_flip = True)\n",
    "\n",
    "testGen = ImageDataGenerator(rescale = 1./255)"
   ]
  },
  {
   "cell_type": "code",
   "execution_count": 6,
   "id": "3c5a5462",
   "metadata": {},
   "outputs": [],
   "source": [
    "BATCHSIZE = 32"
   ]
  },
  {
   "cell_type": "code",
   "execution_count": 7,
   "id": "998e8bd8",
   "metadata": {},
   "outputs": [
    {
     "name": "stdout",
     "output_type": "stream",
     "text": [
      "Found 20000 images belonging to 2 classes.\n",
      "Found 5000 images belonging to 2 classes.\n"
     ]
    }
   ],
   "source": [
    "trainSet = trainGen.flow_from_directory('/Users/kaylaneal/Downloads/alzResearch/dogs-vs-cats/train', target_size = (64,64), batch_size = BATCHSIZE, class_mode = 'binary')\n",
    "\n",
    "testSet = testGen.flow_from_directory('/Users/kaylaneal/Downloads/alzResearch/dogs-vs-cats/test', target_size = (64,64), batch_size = BATCHSIZE, class_mode = 'binary')"
   ]
  },
  {
   "cell_type": "code",
   "execution_count": 8,
   "id": "8c35a123",
   "metadata": {},
   "outputs": [
    {
     "name": "stdout",
     "output_type": "stream",
     "text": [
      "Epoch 1/30\n",
      "625/625 [==============================] - 125s 199ms/step - loss: 0.6803 - accuracy: 0.5588 - val_loss: 0.5591 - val_accuracy: 0.7143\n",
      "Epoch 2/30\n",
      "625/625 [==============================] - 122s 196ms/step - loss: 0.5736 - accuracy: 0.7047 - val_loss: 0.5094 - val_accuracy: 0.7632\n",
      "Epoch 3/30\n",
      "625/625 [==============================] - 121s 194ms/step - loss: 0.5300 - accuracy: 0.7399 - val_loss: 0.4633 - val_accuracy: 0.7760\n",
      "Epoch 4/30\n",
      "625/625 [==============================] - 125s 200ms/step - loss: 0.4899 - accuracy: 0.7628 - val_loss: 0.4416 - val_accuracy: 0.7939\n",
      "Epoch 5/30\n",
      "625/625 [==============================] - 111s 178ms/step - loss: 0.4699 - accuracy: 0.7786 - val_loss: 0.4647 - val_accuracy: 0.7821\n",
      "Epoch 6/30\n",
      "625/625 [==============================] - 115s 184ms/step - loss: 0.4500 - accuracy: 0.7953 - val_loss: 0.4183 - val_accuracy: 0.8055\n",
      "Epoch 7/30\n",
      "625/625 [==============================] - 116s 186ms/step - loss: 0.4371 - accuracy: 0.8016 - val_loss: 0.4071 - val_accuracy: 0.8185\n",
      "Epoch 8/30\n",
      "625/625 [==============================] - 119s 190ms/step - loss: 0.4295 - accuracy: 0.8037 - val_loss: 0.4513 - val_accuracy: 0.7712\n",
      "Epoch 9/30\n",
      "625/625 [==============================] - 113s 182ms/step - loss: 0.4089 - accuracy: 0.8197 - val_loss: 0.3937 - val_accuracy: 0.8209\n",
      "Epoch 10/30\n",
      "625/625 [==============================] - 111s 177ms/step - loss: 0.4178 - accuracy: 0.8116 - val_loss: 0.3706 - val_accuracy: 0.8381\n",
      "Epoch 11/30\n",
      "625/625 [==============================] - 113s 181ms/step - loss: 0.4001 - accuracy: 0.8232 - val_loss: 0.3565 - val_accuracy: 0.8435\n",
      "Epoch 12/30\n",
      "625/625 [==============================] - 112s 180ms/step - loss: 0.3943 - accuracy: 0.8267 - val_loss: 0.3778 - val_accuracy: 0.8323\n",
      "Epoch 13/30\n",
      "625/625 [==============================] - 115s 184ms/step - loss: 0.3894 - accuracy: 0.8303 - val_loss: 0.3933 - val_accuracy: 0.8289\n",
      "Epoch 14/30\n",
      "625/625 [==============================] - 112s 179ms/step - loss: 0.3863 - accuracy: 0.8346 - val_loss: 0.3634 - val_accuracy: 0.8431\n",
      "Epoch 15/30\n",
      "625/625 [==============================] - 115s 184ms/step - loss: 0.3876 - accuracy: 0.8330 - val_loss: 0.4016 - val_accuracy: 0.8101\n",
      "Epoch 16/30\n",
      "625/625 [==============================] - 118s 189ms/step - loss: 0.3836 - accuracy: 0.8299 - val_loss: 0.3570 - val_accuracy: 0.8548\n",
      "Epoch 17/30\n",
      "625/625 [==============================] - 118s 188ms/step - loss: 0.3640 - accuracy: 0.8471 - val_loss: 0.4269 - val_accuracy: 0.8255\n",
      "Epoch 18/30\n",
      "625/625 [==============================] - 114s 182ms/step - loss: 0.3767 - accuracy: 0.8377 - val_loss: 0.5124 - val_accuracy: 0.7125\n",
      "Epoch 19/30\n",
      "625/625 [==============================] - 116s 185ms/step - loss: 0.3663 - accuracy: 0.8406 - val_loss: 0.3355 - val_accuracy: 0.8570\n",
      "Epoch 20/30\n",
      "625/625 [==============================] - 114s 182ms/step - loss: 0.3721 - accuracy: 0.8433 - val_loss: 0.4507 - val_accuracy: 0.8235\n",
      "Epoch 21/30\n",
      "625/625 [==============================] - 114s 183ms/step - loss: 0.3712 - accuracy: 0.8400 - val_loss: 0.3335 - val_accuracy: 0.8552\n",
      "Epoch 22/30\n",
      "625/625 [==============================] - 112s 179ms/step - loss: 0.3637 - accuracy: 0.8470 - val_loss: 0.3343 - val_accuracy: 0.8620\n",
      "Epoch 23/30\n",
      "625/625 [==============================] - 117s 187ms/step - loss: 0.3607 - accuracy: 0.8459 - val_loss: 0.3291 - val_accuracy: 0.8642\n",
      "Epoch 24/30\n",
      "625/625 [==============================] - 124s 198ms/step - loss: 0.3573 - accuracy: 0.8469 - val_loss: 0.3244 - val_accuracy: 0.8650\n",
      "Epoch 25/30\n",
      "625/625 [==============================] - 124s 198ms/step - loss: 0.3497 - accuracy: 0.8531 - val_loss: 0.3408 - val_accuracy: 0.8640\n",
      "Epoch 26/30\n",
      "625/625 [==============================] - 121s 193ms/step - loss: 0.3480 - accuracy: 0.8502 - val_loss: 0.3678 - val_accuracy: 0.8371\n",
      "Epoch 27/30\n",
      "625/625 [==============================] - 123s 197ms/step - loss: 0.3604 - accuracy: 0.8513 - val_loss: 0.3422 - val_accuracy: 0.8546\n",
      "Epoch 28/30\n",
      "625/625 [==============================] - 119s 191ms/step - loss: 0.3494 - accuracy: 0.8519 - val_loss: 0.3828 - val_accuracy: 0.8279\n",
      "Epoch 29/30\n",
      "625/625 [==============================] - 118s 188ms/step - loss: 0.3552 - accuracy: 0.8507 - val_loss: 0.3845 - val_accuracy: 0.8377\n",
      "Epoch 30/30\n",
      "625/625 [==============================] - 119s 190ms/step - loss: 0.3525 - accuracy: 0.8491 - val_loss: 0.3258 - val_accuracy: 0.8596\n"
     ]
    }
   ],
   "source": [
    "history = classifier.fit(trainSet, epochs = 30, validation_data = testSet, validation_steps = (5000 // BATCHSIZE))"
   ]
  },
  {
   "cell_type": "code",
   "execution_count": 9,
   "id": "33c80806",
   "metadata": {},
   "outputs": [
    {
     "data": {
      "image/png": "[encoded data removed]",
      "text/plain": [
       "<Figure size 576x576 with 2 Axes>"
      ]
     },
     "metadata": {
      "needs_background": "light"
     },
     "output_type": "display_data"
    }
   ],
   "source": [
    "acc = history.history['accuracy']\n",
    "val_acc = history.history['val_accuracy']\n",
    "\n",
    "loss = history.history['loss']\n",
    "val_loss = history.history['val_loss']\n",
    "\n",
    "plt.figure(figsize=(8, 8))\n",
    "plt.subplot(2, 1, 1)\n",
    "\n",
    "\n",
    "plt.plot(acc, label='Training Accuracy')\n",
    "plt.plot(val_acc, label='Validation Accuracy')\n",
    "plt.legend(loc='upper right')\n",
    "plt.ylabel('Accuracy')\n",
    "plt.ylim([min(plt.ylim()),1])\n",
    "plt.title('Training and Validation Accuracy')\n",
    "\n",
    "plt.subplot(2, 1, 2)\n",
    "plt.plot(loss, label='Training Loss')\n",
    "plt.plot(val_loss, label='Validation Loss')\n",
    "plt.legend(loc='upper right')\n",
    "plt.ylabel('Cross Entropy')\n",
    "plt.ylim([0,1.0])\n",
    "plt.title('Training and Validation Loss')\n",
    "plt.xlabel('epoch')\n",
    "plt.show()"
   ]
  },
  {
   "cell_type": "code",
   "execution_count": 10,
   "id": "d82919c8",
   "metadata": {},
   "outputs": [],
   "source": [
    "classifier.save('catdog.h5')"
   ]
  },
  {
   "cell_type": "code",
   "execution_count": 11,
   "id": "83c3dadb",
   "metadata": {},
   "outputs": [],
   "source": [
    "frankImages = list(glob.glob((r'/Users/kaylaneal/Downloads/alzResearch/frankphotos/dog') +'*/*'))"
   ]
  },
  {
   "cell_type": "code",
   "execution_count": 15,
   "id": "b36b3945",
   "metadata": {},
   "outputs": [
    {
     "data": {
      "text/plain": [
       "\"d = 0\\nc = 0\\n\\nfor im in frankImages:\\n    test_image =image.load_img(im, target_size =(64,64))\\n    test_image =image.img_to_array(test_image)\\n    test_image =np.expand_dims(test_image, axis =0)\\n    result = classifier.predict(test_image)\\n    if result[0][0] >= 0.5:\\n        prediction = 'dog'\\n        d += 1\\n    else:\\n        prediction = 'cat'\\n        c += 1\\n    print(prediction)\\n    \\n\""
      ]
     },
     "execution_count": 15,
     "metadata": {},
     "output_type": "execute_result"
    }
   ],
   "source": [
    "'''d = 0\n",
    "c = 0\n",
    "\n",
    "for im in frankImages:\n",
    "    test_image =image.load_img(im, target_size =(64,64))\n",
    "    test_image =image.img_to_array(test_image)\n",
    "    test_image =np.expand_dims(test_image, axis =0)\n",
    "    result = classifier.predict(test_image)\n",
    "    if result[0][0] >= 0.5:\n",
    "        prediction = 'dog'\n",
    "        d += 1\n",
    "    else:\n",
    "        prediction = 'cat'\n",
    "        c += 1\n",
    "    print(prediction)\n",
    "    \n",
    "'''"
   ]
  },
  {
   "cell_type": "code",
   "execution_count": null,
   "id": "553664ca",
   "metadata": {},
   "outputs": [],
   "source": []
  }
 ],
 "metadata": {
  "kernelspec": {
   "display_name": "Python 3",
   "language": "python",
   "name": "python3"
  },
  "language_info": {
   "codemirror_mode": {
    "name": "ipython",
    "version": 3
   },
   "file_extension": ".py",
   "mimetype": "text/x-python",
   "name": "python",
   "nbconvert_exporter": "python",
   "pygments_lexer": "ipython3",
   "version": "3.7.10"
  }
 },
 "nbformat": 4,
 "nbformat_minor": 5
}
