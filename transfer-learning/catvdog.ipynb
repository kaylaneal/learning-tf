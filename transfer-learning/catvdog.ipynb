{
 "cells": [
  {
   "cell_type": "markdown",
   "id": "5c8b5e16",
   "metadata": {},
   "source": [
    "https://pythonistaplanet.com/image-classification-using-deep-learning/"
   ]
  },
  {
   "cell_type": "code",
   "execution_count": 11,
   "id": "e940ca49",
   "metadata": {},
   "outputs": [],
   "source": [
    "# import:\n",
    "import tensorflow as tf\n",
    "from tensorflow.keras.models import Sequential\n",
    "from tensorflow.keras.layers import Conv2D, Activation, MaxPooling2D, Dense, Flatten, Dropout, InputLayer\n",
    "from tensorflow.keras.preprocessing.image import ImageDataGenerator\n",
    "\n",
    "import numpy as np\n",
    "\n",
    "from IPython.display import display\n",
    "from PIL import Image"
   ]
  },
  {
   "cell_type": "code",
   "execution_count": 5,
   "id": "d05006cb",
   "metadata": {},
   "outputs": [],
   "source": [
    "classifier = Sequential()"
   ]
  },
  {
   "cell_type": "code",
   "execution_count": 6,
   "id": "e777ca3d",
   "metadata": {},
   "outputs": [],
   "source": [
    "classifier.add(InputLayer(input_shape = (64, 64, 3)))\n",
    "classifier.add(Conv2D(32, (3,3)))\n",
    "classifier.add(Activation('relu'))\n",
    "classifier.add(MaxPooling2D(pool_size = (2,2)))\n",
    "classifier.add(Conv2D(32, (3,3)))\n",
    "classifier.add(Activation('relu'))\n",
    "classifier.add(MaxPooling2D(pool_size = (2,2)))\n",
    "classifier.add(Conv2D(32, (3,3)))\n",
    "classifier.add(Activation('relu'))\n",
    "classifier.add(MaxPooling2D(pool_size = (2,2)))\n",
    "\n",
    "classifier.add(Flatten())\n",
    "classifier.add(Dense(64))\n",
    "classifier.add(Activation('relu'))\n",
    "classifier.add(Dropout(0.5))\n",
    "\n",
    "classifier.add(Dense(1))\n",
    "classifier.add(Activation('sigmoid'))"
   ]
  },
  {
   "cell_type": "code",
   "execution_count": 7,
   "id": "7f569789",
   "metadata": {},
   "outputs": [],
   "source": [
    "classifier.compile(optimizer = 'rmsprop', loss = 'binary_crossentropy', metrics = ['accuracy'])"
   ]
  },
  {
   "cell_type": "code",
   "execution_count": 9,
   "id": "1662ea28",
   "metadata": {},
   "outputs": [],
   "source": [
    "trainGen = ImageDataGenerator(rescale = 1./255, shear_range = 0.2, zoom_range = 0.2, horizontal_flip = True)\n",
    "\n",
    "testGen = ImageDataGenerator(rescale = 1./255)"
   ]
  },
  {
   "cell_type": "code",
   "execution_count": 10,
   "id": "998e8bd8",
   "metadata": {},
   "outputs": [
    {
     "name": "stdout",
     "output_type": "stream",
     "text": [
      "Found 20000 images belonging to 2 classes.\n",
      "Found 5000 images belonging to 2 classes.\n"
     ]
    }
   ],
   "source": [
    "trainSet = trainGen.flow_from_directory('/Users/kaylaneal/Downloads/alzResearch/dogs-vs-cats/train', target_size = (64,64), batch_size = 32, class_mode = 'binary')\n",
    "\n",
    "testSet = testGen.flow_from_directory('/Users/kaylaneal/Downloads/alzResearch/dogs-vs-cats/test', target_size = (64,64), batch_size = 32, class_mode = 'binary')"
   ]
  },
  {
   "cell_type": "code",
   "execution_count": 12,
   "id": "8c35a123",
   "metadata": {},
   "outputs": [
    {
     "name": "stdout",
     "output_type": "stream",
     "text": [
      "Epoch 1/30\n",
      "625/625 [==============================] - ETA: 0s - loss: 0.6869 - accuracy: 0.5418WARNING:tensorflow:Your input ran out of data; interrupting training. Make sure that your dataset or generator can generate at least `steps_per_epoch * epochs` batches (in this case, 5000 batches). You may need to use the repeat() function when building your dataset.\n",
      "625/625 [==============================] - 130s 205ms/step - loss: 0.6869 - accuracy: 0.5418 - val_loss: 0.6116 - val_accuracy: 0.6696\n",
      "Epoch 2/30\n",
      "625/625 [==============================] - 98s 156ms/step - loss: 0.6064 - accuracy: 0.6730\n",
      "Epoch 3/30\n",
      "625/625 [==============================] - 89s 142ms/step - loss: 0.5487 - accuracy: 0.7250\n",
      "Epoch 4/30\n",
      "625/625 [==============================] - 80s 128ms/step - loss: 0.5151 - accuracy: 0.7544\n",
      "Epoch 5/30\n",
      "625/625 [==============================] - 81s 130ms/step - loss: 0.4819 - accuracy: 0.7680\n",
      "Epoch 6/30\n",
      "625/625 [==============================] - 80s 127ms/step - loss: 0.4665 - accuracy: 0.7808\n",
      "Epoch 7/30\n",
      "625/625 [==============================] - 81s 130ms/step - loss: 0.4609 - accuracy: 0.7886\n",
      "Epoch 8/30\n",
      "625/625 [==============================] - 86s 138ms/step - loss: 0.4424 - accuracy: 0.8000\n",
      "Epoch 9/30\n",
      "625/625 [==============================] - 79s 127ms/step - loss: 0.4337 - accuracy: 0.8065\n",
      "Epoch 10/30\n",
      "625/625 [==============================] - 81s 129ms/step - loss: 0.4173 - accuracy: 0.8128\n",
      "Epoch 11/30\n",
      "625/625 [==============================] - 82s 131ms/step - loss: 0.4163 - accuracy: 0.8144\n",
      "Epoch 12/30\n",
      "625/625 [==============================] - 80s 127ms/step - loss: 0.4075 - accuracy: 0.8227\n",
      "Epoch 13/30\n",
      "625/625 [==============================] - 80s 127ms/step - loss: 0.4083 - accuracy: 0.8221\n",
      "Epoch 14/30\n",
      "625/625 [==============================] - 1987s 3s/step - loss: 0.3934 - accuracy: 0.8256\n",
      "Epoch 15/30\n",
      "625/625 [==============================] - 98s 156ms/step - loss: 0.4005 - accuracy: 0.8261\n",
      "Epoch 16/30\n",
      "625/625 [==============================] - 102s 163ms/step - loss: 0.3984 - accuracy: 0.8276\n",
      "Epoch 17/30\n",
      "625/625 [==============================] - 96s 154ms/step - loss: 0.3818 - accuracy: 0.8362\n",
      "Epoch 18/30\n",
      "625/625 [==============================] - 92s 147ms/step - loss: 0.3857 - accuracy: 0.8311\n",
      "Epoch 19/30\n",
      "625/625 [==============================] - 91s 146ms/step - loss: 0.3912 - accuracy: 0.8299\n",
      "Epoch 20/30\n",
      "625/625 [==============================] - 90s 144ms/step - loss: 0.3777 - accuracy: 0.8389\n",
      "Epoch 21/30\n",
      "625/625 [==============================] - 93s 148ms/step - loss: 0.3723 - accuracy: 0.8374\n",
      "Epoch 22/30\n",
      "625/625 [==============================] - 89s 142ms/step - loss: 0.3824 - accuracy: 0.8382\n",
      "Epoch 23/30\n",
      "625/625 [==============================] - 91s 145ms/step - loss: 0.3790 - accuracy: 0.8355\n",
      "Epoch 24/30\n",
      "625/625 [==============================] - 91s 146ms/step - loss: 0.3751 - accuracy: 0.8415\n",
      "Epoch 25/30\n",
      "625/625 [==============================] - 86s 137ms/step - loss: 0.3697 - accuracy: 0.8403\n",
      "Epoch 26/30\n",
      "625/625 [==============================] - 88s 140ms/step - loss: 0.3744 - accuracy: 0.8374\n",
      "Epoch 27/30\n",
      "625/625 [==============================] - 85s 136ms/step - loss: 0.3723 - accuracy: 0.8429\n",
      "Epoch 28/30\n",
      "625/625 [==============================] - 97s 155ms/step - loss: 0.3629 - accuracy: 0.8463\n",
      "Epoch 29/30\n",
      "625/625 [==============================] - 87s 139ms/step - loss: 0.3640 - accuracy: 0.8450\n",
      "Epoch 30/30\n",
      "625/625 [==============================] - 84s 134ms/step - loss: 0.3631 - accuracy: 0.8432\n"
     ]
    },
    {
     "data": {
      "text/plain": [
       "<tensorflow.python.keras.callbacks.History at 0x104408310>"
      ]
     },
     "execution_count": 12,
     "metadata": {},
     "output_type": "execute_result"
    }
   ],
   "source": [
    "classifier.fit(trainSet, steps_per_epoch = 625, epochs = 30, validation_data = testSet, validation_steps = 5000)"
   ]
  },
  {
   "cell_type": "code",
   "execution_count": 14,
   "id": "797169b3",
   "metadata": {},
   "outputs": [],
   "source": [
    "classifier.save('catdog.h5')"
   ]
  },
  {
   "cell_type": "code",
   "execution_count": null,
   "id": "33c80806",
   "metadata": {},
   "outputs": [],
   "source": []
  }
 ],
 "metadata": {
  "kernelspec": {
   "display_name": "Python 3",
   "language": "python",
   "name": "python3"
  },
  "language_info": {
   "codemirror_mode": {
    "name": "ipython",
    "version": 3
   },
   "file_extension": ".py",
   "mimetype": "text/x-python",
   "name": "python",
   "nbconvert_exporter": "python",
   "pygments_lexer": "ipython3",
   "version": "3.7.10"
  }
 },
 "nbformat": 4,
 "nbformat_minor": 5
}
