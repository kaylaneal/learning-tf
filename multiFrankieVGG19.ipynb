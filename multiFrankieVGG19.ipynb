{
 "cells": [
  {
   "cell_type": "code",
   "execution_count": 1,
   "metadata": {},
   "outputs": [],
   "source": [
    "# goal: train model on multiple pictures of franklin :)"
   ]
  },
  {
   "cell_type": "code",
   "execution_count": 48,
   "metadata": {},
   "outputs": [],
   "source": [
    "%load_ext tensorboard"
   ]
  },
  {
   "cell_type": "code",
   "execution_count": 49,
   "metadata": {},
   "outputs": [],
   "source": [
    "import glob\n",
    "import datetime"
   ]
  },
  {
   "cell_type": "code",
   "execution_count": 3,
   "metadata": {},
   "outputs": [],
   "source": [
    "import tensorflow as tf\n",
    "from tensorflow import keras"
   ]
  },
  {
   "cell_type": "code",
   "execution_count": 2,
   "metadata": {},
   "outputs": [],
   "source": [
    "from tensorflow.keras import Sequential\n",
    "from tensorflow.keras.layers import Dense\n",
    "from tensorflow.keras.layers import Conv2D\n",
    "from tensorflow.keras.layers import MaxPool2D\n",
    "from tensorflow.keras.layers import Flatten\n",
    "from tensorflow.keras.layers import Dropout\n",
    "from tensorflow.keras.preprocessing.image import ImageDataGenerator"
   ]
  },
  {
   "cell_type": "code",
   "execution_count": 3,
   "metadata": {},
   "outputs": [],
   "source": [
    "from tensorflow.keras.applications.vgg19 import VGG19\n",
    "from tensorflow.keras.preprocessing.image import load_img\n",
    "from tensorflow.keras.preprocessing.image import img_to_array\n",
    "from tensorflow.keras.applications.vgg19 import preprocess_input\n",
    "from tensorflow.keras.applications.vgg19 import decode_predictions"
   ]
  },
  {
   "cell_type": "code",
   "execution_count": 5,
   "metadata": {},
   "outputs": [],
   "source": [
    "import matplotlib.pyplot as plt"
   ]
  },
  {
   "cell_type": "code",
   "execution_count": 6,
   "metadata": {},
   "outputs": [],
   "source": [
    "import pathlib"
   ]
  },
  {
   "cell_type": "code",
   "execution_count": 7,
   "metadata": {},
   "outputs": [],
   "source": [
    "#from numpy import asarray\n",
    "#from numpy import unique\n",
    "#from numpy import argmax"
   ]
  },
  {
   "cell_type": "code",
   "execution_count": 8,
   "metadata": {},
   "outputs": [],
   "source": [
    "path = (r'/Users/kaylaneal/Downloads/alzResearch/frankphotos')"
   ]
  },
  {
   "cell_type": "code",
   "execution_count": 9,
   "metadata": {},
   "outputs": [],
   "source": [
    "frankImages = list(glob.glob(path +'*/*'))"
   ]
  },
  {
   "cell_type": "code",
   "execution_count": 10,
   "metadata": {},
   "outputs": [],
   "source": [
    "#datasetpath = (r'Users/kaylaneal/Downloads/alzResearch/cats_and_dogs_filtered/train/dogs')"
   ]
  },
  {
   "cell_type": "code",
   "execution_count": 11,
   "metadata": {},
   "outputs": [],
   "source": [
    "#dogTrainDS = list(glob.glob(datasetpath + '*/.jpg'))"
   ]
  },
  {
   "cell_type": "code",
   "execution_count": 13,
   "metadata": {},
   "outputs": [],
   "source": [
    "#dataDir = tf.keras.utils.get_file('dvc', origin = datasetpath, untar = True)"
   ]
  },
  {
   "cell_type": "code",
   "execution_count": 14,
   "metadata": {},
   "outputs": [],
   "source": [
    "#dataDir = pathlib.Path(datasetpath)"
   ]
  },
  {
   "cell_type": "code",
   "execution_count": 21,
   "metadata": {},
   "outputs": [
    {
     "data": {
      "text/plain": [
       "55"
      ]
     },
     "execution_count": 21,
     "metadata": {},
     "output_type": "execute_result"
    }
   ],
   "source": [
    "dataSize = len(frankImages)\n",
    "dataSize"
   ]
  },
  {
   "cell_type": "code",
   "execution_count": null,
   "metadata": {},
   "outputs": [],
   "source": [
    "#trainTestSplit = (int)(dataSize * 0.2)\n",
    "#trainTestSplit"
   ]
  },
  {
   "cell_type": "code",
   "execution_count": null,
   "metadata": {},
   "outputs": [],
   "source": [
    "#xTrain = dataset[trainTestSplit:]\n",
    "#xTest = dataset[:trainTestSplit]"
   ]
  },
  {
   "cell_type": "code",
   "execution_count": null,
   "metadata": {},
   "outputs": [],
   "source": [
    "#yTrain = dataset[trainTestSplit:]\n",
    "#yTest = dataset[:trainTestSplit]"
   ]
  },
  {
   "cell_type": "code",
   "execution_count": 50,
   "metadata": {},
   "outputs": [],
   "source": [
    "rm -rf ./logs/"
   ]
  },
  {
   "cell_type": "code",
   "execution_count": 51,
   "metadata": {},
   "outputs": [],
   "source": [
    "log_dir = \"logs/fit/\" + datetime.datetime.now().strftime(\"%Y%m%d-%H%M%S\")"
   ]
  },
  {
   "cell_type": "code",
   "execution_count": 4,
   "metadata": {},
   "outputs": [],
   "source": [
    "model = VGG19()"
   ]
  },
  {
   "cell_type": "code",
   "execution_count": 42,
   "metadata": {},
   "outputs": [],
   "source": [
    "def prospic(path):\n",
    "    fimage = load_img(path, target_size = (224, 224))\n",
    "    fimage = img_to_array(fimage)\n",
    "    fimage = fimage.rshape((1, fimage.shape[0], fimage.shape[1], fimage.shape[2]))\n",
    "    fimage = preprocess_input(fimage)\n",
    "    fpredun = model.predict(fimage)\n",
    "    flabel = decode_predictions(fpredun)\n",
    "    flabel = flabel [0][0]\n",
    "    print ('%s (%.2f%%)' % (flabel[1], flabel[2]*100))"
   ]
  },
  {
   "cell_type": "code",
   "execution_count": 43,
   "metadata": {},
   "outputs": [
    {
     "name": "stdout",
     "output_type": "stream",
     "text": [
      "Rottweiler (74.28%)\n",
      "Rottweiler (96.13%)\n",
      "miniature_pinscher (71.13%)\n",
      "Rottweiler (39.11%)\n",
      "Rottweiler (95.73%)\n",
      "Rottweiler (52.49%)\n",
      "Rottweiler (41.78%)\n",
      "triceratops (6.81%)\n",
      "Staffordshire_bullterrier (47.93%)\n",
      "Rottweiler (54.40%)\n",
      "Rottweiler (91.24%)\n",
      "Rottweiler (83.55%)\n",
      "Rottweiler (78.44%)\n",
      "Staffordshire_bullterrier (19.74%)\n",
      "Rottweiler (64.62%)\n",
      "Rottweiler (95.15%)\n",
      "Chihuahua (54.06%)\n",
      "Rottweiler (95.94%)\n",
      "Rottweiler (42.80%)\n",
      "pug (14.20%)\n",
      "Rottweiler (54.16%)\n",
      "Rottweiler (24.39%)\n",
      "Rottweiler (89.59%)\n",
      "Rottweiler (58.44%)\n",
      "Rottweiler (86.41%)\n",
      "Rottweiler (95.37%)\n",
      "Rottweiler (93.30%)\n",
      "miniature_pinscher (51.35%)\n",
      "Rottweiler (76.39%)\n",
      "Rottweiler (43.46%)\n",
      "Rottweiler (98.40%)\n",
      "pug (15.22%)\n",
      "Rottweiler (93.44%)\n",
      "Rottweiler (64.90%)\n",
      "Rottweiler (99.25%)\n",
      "Rottweiler (86.46%)\n",
      "Rottweiler (99.25%)\n",
      "Rottweiler (81.22%)\n",
      "Rottweiler (99.35%)\n",
      "Rottweiler (92.04%)\n",
      "Rottweiler (52.59%)\n",
      "Rottweiler (96.93%)\n",
      "Rottweiler (99.78%)\n",
      "pug (19.21%)\n",
      "Rottweiler (93.47%)\n",
      "Rottweiler (99.36%)\n",
      "Rottweiler (88.28%)\n",
      "miniature_pinscher (72.63%)\n",
      "Rottweiler (97.48%)\n",
      "miniature_pinscher (30.95%)\n",
      "Rottweiler (25.82%)\n",
      "miniature_pinscher (62.04%)\n",
      "Rottweiler (45.78%)\n",
      "plane (12.27%)\n",
      "Rottweiler (87.40%)\n"
     ]
    }
   ],
   "source": [
    "for image in frankImages:\n",
    "    prospic(image)"
   ]
  },
  {
   "cell_type": "code",
   "execution_count": 53,
   "metadata": {},
   "outputs": [
    {
     "data": {
      "text/html": [
       "\n",
       "      <iframe id=\"tensorboard-frame-12d01e754b354378\" width=\"100%\" height=\"800\" frameborder=\"0\">\n",
       "      </iframe>\n",
       "      <script>\n",
       "        (function() {\n",
       "          const frame = document.getElementById(\"tensorboard-frame-12d01e754b354378\");\n",
       "          const url = new URL(\"/\", window.location);\n",
       "          url.port = 6007;\n",
       "          frame.src = url;\n",
       "        })();\n",
       "      </script>\n",
       "  "
      ],
      "text/plain": [
       "<IPython.core.display.HTML object>"
      ]
     },
     "metadata": {},
     "output_type": "display_data"
    }
   ],
   "source": [
    "%tensorboard --logdir logs/fit"
   ]
  },
  {
   "cell_type": "code",
   "execution_count": 46,
   "metadata": {},
   "outputs": [],
   "source": [
    "model.save('FRANKLIN.h5')"
   ]
  }
 ],
 "metadata": {
  "kernelspec": {
   "display_name": "Python 3",
   "language": "python",
   "name": "python3"
  },
  "language_info": {
   "codemirror_mode": {
    "name": "ipython",
    "version": 3
   },
   "file_extension": ".py",
   "mimetype": "text/x-python",
   "name": "python",
   "nbconvert_exporter": "python",
   "pygments_lexer": "ipython3",
   "version": "3.7.4"
  }
 },
 "nbformat": 4,
 "nbformat_minor": 2
}
