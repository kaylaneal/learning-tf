{
 "cells": [
  {
   "cell_type": "markdown",
   "id": "02e5f4e1",
   "metadata": {},
   "source": [
    "using [another mlm tutorial](https://machinelearningmastery.com/how-to-perform-object-detection-in-photographs-with-mask-r-cnn-in-keras/) to test why the MRCNN model isn't working with me\n",
    "\n",
    "original mrcnn is not updated for tf2, [this mrcnn adaptaion](https://github.com/akTwelve/Mask_RCNN) worked initially, removing later made the model accurate.\n",
    "\n",
    "[this error resolution](https://github.com/matterport/Mask_RCNN/issues/849) helped with errors related to loading weights"
   ]
  },
  {
   "cell_type": "code",
   "execution_count": 3,
   "id": "60ef5733",
   "metadata": {},
   "outputs": [
    {
     "ename": "ModuleNotFoundError",
     "evalue": "No module named 'Mask_RCNN'",
     "output_type": "error",
     "traceback": [
      "\u001b[1;31m---------------------------------------------------------------------------\u001b[0m",
      "\u001b[1;31mModuleNotFoundError\u001b[0m                       Traceback (most recent call last)",
      "\u001b[1;32m~\\AppData\\Local\\Temp/ipykernel_25024/3343821381.py\u001b[0m in \u001b[0;36m<module>\u001b[1;34m\u001b[0m\n\u001b[0;32m      2\u001b[0m \u001b[1;32mfrom\u001b[0m \u001b[0mtensorflow\u001b[0m\u001b[1;33m.\u001b[0m\u001b[0mkeras\u001b[0m\u001b[1;33m.\u001b[0m\u001b[0mpreprocessing\u001b[0m\u001b[1;33m.\u001b[0m\u001b[0mimage\u001b[0m \u001b[1;32mimport\u001b[0m \u001b[0mload_img\u001b[0m\u001b[1;33m,\u001b[0m \u001b[0mimg_to_array\u001b[0m\u001b[1;33m\u001b[0m\u001b[1;33m\u001b[0m\u001b[0m\n\u001b[0;32m      3\u001b[0m \u001b[1;33m\u001b[0m\u001b[0m\n\u001b[1;32m----> 4\u001b[1;33m \u001b[1;32mfrom\u001b[0m \u001b[0mMask_RCNN\u001b[0m\u001b[1;33m.\u001b[0m\u001b[0mmrcnn\u001b[0m\u001b[1;33m.\u001b[0m\u001b[0mconfig\u001b[0m \u001b[1;32mimport\u001b[0m \u001b[0mConfig\u001b[0m\u001b[1;33m\u001b[0m\u001b[1;33m\u001b[0m\u001b[0m\n\u001b[0m\u001b[0;32m      5\u001b[0m \u001b[1;32mfrom\u001b[0m \u001b[0mmrcnn\u001b[0m \u001b[1;32mimport\u001b[0m \u001b[0mvisualize\u001b[0m\u001b[1;33m\u001b[0m\u001b[1;33m\u001b[0m\u001b[0m\n\u001b[0;32m      6\u001b[0m \u001b[1;32mfrom\u001b[0m \u001b[0mmrcnn\u001b[0m\u001b[1;33m.\u001b[0m\u001b[0mmodel\u001b[0m \u001b[1;32mimport\u001b[0m \u001b[0mMaskRCNN\u001b[0m\u001b[1;33m\u001b[0m\u001b[1;33m\u001b[0m\u001b[0m\n",
      "\u001b[1;31mModuleNotFoundError\u001b[0m: No module named 'Mask_RCNN'"
     ]
    }
   ],
   "source": [
    "import tensorflow as tf\n",
    "from tensorflow.keras.preprocessing.image import load_img, img_to_array\n",
    "\n",
    "from Mask_RCNN.mrcnn.config import Config\n",
    "from mrcnn import visualize\n",
    "from mrcnn.model import MaskRCNN\n",
    "\n",
    "from matplotlib import pyplot\n",
    "from matplotlib.patches import Rectangle"
   ]
  },
  {
   "cell_type": "code",
   "execution_count": null,
   "id": "64f3809e",
   "metadata": {},
   "outputs": [],
   "source": [
    "# define the test configuration\n",
    "class PredictionConfig(Config):\n",
    "    NAME = \"test\"\n",
    "    NUM_CLASSES = 80 + 1 \n",
    "    GPU_COUNT = 1\n",
    "    IMAGES_PER_GPU = 1\n",
    "    \n",
    "config = PredictionConfig()"
   ]
  },
  {
   "cell_type": "code",
   "execution_count": null,
   "id": "4ad4e007",
   "metadata": {},
   "outputs": [],
   "source": [
    "# function that draws image w detected objects\n",
    "def draw_image_with_boxes(filename, boxes_list):\n",
    "    data = pyplot.imread(filename)\n",
    "    pyplot.imshow(data)\n",
    "    \n",
    "    ax = pyplot.gca() # gets context for boxes\n",
    "    \n",
    "    for box in boxes_list:\n",
    "        y1,x1,y2,x2 = box\n",
    "        width, height = x2-x1, y2-y1\n",
    "        rect = Rectangle((x1,y1), width, height, fill=False, color='red')\n",
    "        ax.add_patch(rect)\n",
    "    \n",
    "    pyplot.show()"
   ]
  },
  {
   "cell_type": "code",
   "execution_count": null,
   "id": "4f86b760",
   "metadata": {},
   "outputs": [],
   "source": [
    "class_names = ['BG', 'person', 'bicycle', 'car', 'motorcycle', 'airplane',\n",
    "               'bus', 'train', 'truck', 'boat', 'traffic light',\n",
    "               'fire hydrant', 'stop sign', 'parking meter', 'bench', 'bird',\n",
    "               'cat', 'dog', 'horse', 'sheep', 'cow', 'elephant', 'bear',\n",
    "               'zebra', 'giraffe', 'backpack', 'umbrella', 'handbag', 'tie',\n",
    "               'suitcase', 'frisbee', 'skis', 'snowboard', 'sports ball',\n",
    "               'kite', 'baseball bat', 'baseball glove', 'skateboard',\n",
    "               'surfboard', 'tennis racket', 'bottle', 'wine glass', 'cup',\n",
    "               'fork', 'knife', 'spoon', 'bowl', 'banana', 'apple',\n",
    "               'sandwich', 'orange', 'broccoli', 'carrot', 'hot dog', 'pizza',\n",
    "               'donut', 'cake', 'chair', 'couch', 'potted plant', 'bed',\n",
    "               'dining table', 'toilet', 'tv', 'laptop', 'mouse', 'remote',\n",
    "               'keyboard', 'cell phone', 'microwave', 'oven', 'toaster',\n",
    "               'sink', 'refrigerator', 'book', 'clock', 'vase', 'scissors',\n",
    "               'teddy bear', 'hair drier', 'toothbrush']"
   ]
  },
  {
   "cell_type": "code",
   "execution_count": null,
   "id": "59fab2d8",
   "metadata": {},
   "outputs": [],
   "source": [
    "rcnn = MaskRCNN(mode = 'inference', model_dir='./', config=config)"
   ]
  },
  {
   "cell_type": "code",
   "execution_count": null,
   "id": "36ea4334",
   "metadata": {},
   "outputs": [],
   "source": [
    "rcnn.load_weights('mask_rcnn_coco.h5', by_name = True)"
   ]
  },
  {
   "cell_type": "code",
   "execution_count": null,
   "id": "31d9016a",
   "metadata": {},
   "outputs": [],
   "source": [
    "img = load_img('ankie.jpeg')\n",
    "img = img_to_array(img)\n",
    "results = rcnn.detect([img], verbose = 0) # prediction\n",
    "draw_image_with_boxes('ankie.jpeg', results[0]['rois']) # image detection (bb)\n",
    "r = results[0]\n",
    "display_instances(img, r['rois'], r['masks'], r['class_ids'], class_names, r['scores']) # image classification, detection"
   ]
  },
  {
   "cell_type": "code",
   "execution_count": null,
   "id": "8fe8d59c",
   "metadata": {},
   "outputs": [],
   "source": [
    "img = load_img('elephant.jpeg')\n",
    "img = img_to_array(img)\n",
    "results = rcnn.detect([img], verbose = 0)\n",
    "draw_image_with_boxes('elephant.jpeg', results[0]['rois']) # image detection (bb)\n",
    "r = results[0]\n",
    "display_instances(img, r['rois'], r['masks'], r['class_ids'], class_names, r['scores']) # image classification, detection"
   ]
  },
  {
   "cell_type": "code",
   "execution_count": null,
   "id": "03baad13",
   "metadata": {},
   "outputs": [],
   "source": [
    "img = load_img('riku.jpg')\n",
    "img = img_to_array(img)\n",
    "results = rcnn.detect([img], verbose = 0) # prediction\n",
    "draw_image_with_boxes('riku.jpg', results[0]['rois']) # image detection (bb)\n",
    "r = results[0]\n",
    "display_instances(img, r['rois'], r['masks'], r['class_ids'], class_names, r['scores']) # image classification, detection"
   ]
  },
  {
   "cell_type": "code",
   "execution_count": null,
   "id": "9d6c8538",
   "metadata": {},
   "outputs": [],
   "source": []
  }
 ],
 "metadata": {
  "interpreter": {
   "hash": "40d3a090f54c6569ab1632332b64b2c03c39dcf918b08424e98f38b5ae0af88f"
  },
  "kernelspec": {
   "display_name": "Python 3 (ipykernel)",
   "language": "python",
   "name": "python3"
  },
  "language_info": {
   "codemirror_mode": {
    "name": "ipython",
    "version": 3
   },
   "file_extension": ".py",
   "mimetype": "text/x-python",
   "name": "python",
   "nbconvert_exporter": "python",
   "pygments_lexer": "ipython3",
   "version": "3.8.8"
  }
 },
 "nbformat": 4,
 "nbformat_minor": 5
}
