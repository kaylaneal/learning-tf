{
 "cells": [
  {
   "cell_type": "code",
   "execution_count": null,
   "id": "50906d94",
   "metadata": {},
   "outputs": [],
   "source": [
    "import tensorflow as tf\n",
    "from tensorflow import keras\n",
    "from tensorflow.keras.layers.experimental import preprocessing\n",
    "from tensorflow.keras.preprocessing.image import array_to_img\n",
    "\n",
    "import tensorflow_datasets as tfds\n",
    "\n",
    "from tensorflow_examples.models.pix2pix import pix2pix\n",
    "\n",
    "from IPython.display import clear_output\n",
    "import matplotlib.pyplot as plt"
   ]
  },
  {
   "cell_type": "code",
   "execution_count": null,
   "id": "3eb77924",
   "metadata": {},
   "outputs": [],
   "source": [
    "def normalize(input_image, input_mask):\n",
    "    input_image = tf.cast(input_image, tf.float32)/255.0\n",
    "    input_mask -= 1\n",
    "    return input_image, input_mask"
   ]
  },
  {
   "cell_type": "code",
   "execution_count": null,
   "id": "ccb9469b",
   "metadata": {},
   "outputs": [],
   "source": [
    "def load_image(datapoint):\n",
    "    input_image = tf.image.resize(datapoint['image'], (128,128))\n",
    "    input_mask = tf.image.resize(datapoint['segmentation_mask'], (128,128))\n",
    "\n",
    "    input_image, input_mask = normalize(input_image, input_mask)\n",
    "\n",
    "    return input_image, input_mask"
   ]
  },
  {
   "cell_type": "code",
   "execution_count": null,
   "id": "82d95939",
   "metadata": {},
   "outputs": [],
   "source": [
    "class Augment(tf.keras.layers.Layer):\n",
    "    def __init__(self, seed=42):\n",
    "        super().__init__()\n",
    "        self.augment_inputs = tf.keras.layers.RandomFlip(mode = \"horizontal\", seed=seed)\n",
    "        self.augment_labels = tf.keras.layers.RandomFlip(mode = \"horizontal\", seed = seed)\n",
    "\n",
    "    def call(self, inputs, labels):\n",
    "        inputs = self.augment_inputs(inputs)\n",
    "        labels = self.augment_labels(labels)\n",
    "        return inputs, labels"
   ]
  },
  {
   "cell_type": "code",
   "execution_count": null,
   "id": "f891c9cd",
   "metadata": {},
   "outputs": [],
   "source": [
    "# VISUALIZATION \n",
    "def display(display_list):\n",
    "    plt.figure(figsize = (15,15))\n",
    "\n",
    "    title = [\"Input Image\", \"True Mask\", \"Predicted Mask\"]\n",
    "\n",
    "    for i in range(len(display_list)):\n",
    "        plt.subplot(1, len(display_list), i+1)\n",
    "        plt.title(title[i])\n",
    "        plt.imshow(tf.keras.utils.array_to_img(display_list[i]))\n",
    "        plt.axis(\"off\")\n",
    "\n",
    "    plt.show()"
   ]
  },
  {
   "cell_type": "code",
   "execution_count": null,
   "id": "e1bed178",
   "metadata": {},
   "outputs": [],
   "source": [
    "def unet_model(output_channels:int):\n",
    "    inputs = tf.keras.layers.Input(shape = [128, 128, 3])\n",
    "\n",
    "    # downsampling\n",
    "    skips = down_stack(inputs)\n",
    "    x = skips[-1]\n",
    "    skips = reversed(skips[:-1])\n",
    "\n",
    "    # upsampling & skip connections\n",
    "    for up, skip in zip(up_stack, skips):\n",
    "        x = up(x)\n",
    "        concat = tf.keras.layers.Concatenate()\n",
    "        x = concat([x, skip])\n",
    "\n",
    "    # last layer\n",
    "    last = tf.keras.layers.Conv2DTranspose(\n",
    "        filters = output_channels, kernel_size = 3,\n",
    "        strides = 2, padding = 'same' ) # 64x64 -> 128x128\n",
    "\n",
    "    x = last(x)\n",
    "\n",
    "    return tf.keras.Model(inputs = inputs, outputs = x)\n"
   ]
  },
  {
   "cell_type": "code",
   "execution_count": null,
   "id": "85f93439",
   "metadata": {},
   "outputs": [],
   "source": [
    "def create_mask(pred_mask):\n",
    "    pred_mask = tf.argmax(pred_mask, axis = -1)\n",
    "    pred_mask = pred_mask[..., tf.newaxis]\n",
    "    return pred_mask[0]\n"
   ]
  },
  {
   "cell_type": "code",
   "execution_count": null,
   "id": "512ea005",
   "metadata": {},
   "outputs": [],
   "source": [
    "def show_predictions(dataset = None, num = 1):\n",
    "    if dataset:\n",
    "        for image, mask in dataset.take(num):\n",
    "            pred_mask = model.predict(image)\n",
    "            display([image[0], mask[0], create_mask(pred_mask)])\n",
    "\n",
    "    else:\n",
    "        display([sample_image, sample_mask, create_mask(model.predict(sample_image[tf.newaxis, ...]))])"
   ]
  },
  {
   "cell_type": "code",
   "execution_count": null,
   "id": "31d3ab75",
   "metadata": {},
   "outputs": [],
   "source": [
    "class DisplayCallback(tf.keras.callbacks.Callback):\n",
    "    def on_epoch_end(self, epoch, logs = None):\n",
    "        clear_output(wait = True)\n",
    "        show_predictions()\n",
    "        print(\"\\nSample Prediction after epoch {}\\n\".format(epoch+1))\n"
   ]
  },
  {
   "cell_type": "code",
   "execution_count": null,
   "id": "42f51f4b",
   "metadata": {},
   "outputs": [],
   "source": [
    "dataset, info = tfds.load('oxford_iiit_pet:3.*.*', with_info = True)"
   ]
  },
  {
   "cell_type": "code",
   "execution_count": null,
   "id": "4c9b3788",
   "metadata": {},
   "outputs": [],
   "source": [
    "TRAIN_LENGTH = info.splits['train'].num_examples\n",
    "BATCH_SIZE = 64\n",
    "BUFFER_SIZE = 1000\n",
    "STEPS_PER_EPOCH = TRAIN_LENGTH // BATCH_SIZE\n",
    "\n",
    "EPOCHS = 20\n",
    "VAL_SUBSPLITS = 5\n",
    "VALIDATION_STEPS = info.splits['test'].num_examples//BATCH_SIZE//VAL_SUBSPLITS"
   ]
  },
  {
   "cell_type": "code",
   "execution_count": null,
   "id": "b33914cf",
   "metadata": {},
   "outputs": [],
   "source": [
    "train_images = dataset['train'].map(load_image, num_parallel_calls=tf.data.experimental.AUTOTUNE)\n",
    "test_images = dataset['test'].map(load_image, num_parallel_calls=tf.data.experimental.AUTOTUNE)"
   ]
  },
  {
   "cell_type": "code",
   "execution_count": null,
   "id": "bd7c9fcf",
   "metadata": {},
   "outputs": [],
   "source": [
    "# BUILD INPUT PIPELINE\n",
    "train_batches = (train_images.cache().shuffle(BUFFER_SIZE)\n",
    "                .batch(BATCH_SIZE).repeat().map(Augment())\n",
    "                .prefetch(buffer_size = tf.data.experimental.AUTOTUNE))\n",
    "\n",
    "test_batches = test_images.batch(BATCH_SIZE)"
   ]
  },
  {
   "cell_type": "code",
   "execution_count": null,
   "id": "1c0b176b",
   "metadata": {},
   "outputs": [],
   "source": [
    "# show sample input // true mask\n",
    "for images, masks in train_batches.take(2):\n",
    "    sample_image, sample_mask = images[0], masks[0]\n",
    "    display([sample_image, sample_mask])\n"
   ]
  },
  {
   "cell_type": "code",
   "execution_count": null,
   "id": "b2a107b6",
   "metadata": {},
   "outputs": [],
   "source": [
    "# BUILDING UNET MODEL\n",
    "base_model = tf.keras.applications.MobileNetV2(input_shape = [128, 128, 3], include_top = False)"
   ]
  },
  {
   "cell_type": "code",
   "execution_count": null,
   "id": "a411c88f",
   "metadata": {},
   "outputs": [],
   "source": [
    "# use activations of:\n",
    "layer_names = [\n",
    "    'block_1_expand_relu',   # 64x64\n",
    "    'block_3_expand_relu',   # 32x32\n",
    "    'block_6_expand_relu',   # 16x16\n",
    "    'block_13_expand_relu',  # 8x8\n",
    "    'block_16_project',      # 4x4\n",
    "]\n",
    "base_model_outputs = [base_model.get_layer(name).output for name in layer_names]\n",
    "\n",
    "# feature extraction\n",
    "down_stack = tf.keras.Model(inputs = base_model.input, outputs = base_model_outputs)\n",
    "down_stack.trainable = False"
   ]
  },
  {
   "cell_type": "code",
   "execution_count": null,
   "id": "9aa71976",
   "metadata": {},
   "outputs": [],
   "source": [
    "# decoder / upsampler\n",
    "up_stack = [\n",
    "    pix2pix.upsample(512, 3),   # 4x4 -> 8x8\n",
    "    pix2pix.upsample(256, 3),   # 8x8 -> 16x16\n",
    "    pix2pix.upsample(128, 3),   # 16x16 -> 32x32\n",
    "    pix2pix.upsample(64, 3),    # 32x32 -> 64x64\n",
    "]\n"
   ]
  },
  {
   "cell_type": "code",
   "execution_count": null,
   "id": "2270ead0",
   "metadata": {},
   "outputs": [],
   "source": [
    "# Training!\n",
    "OUTPUT_CLASSES = 3\n",
    "\n",
    "model = unet_model(output_channels=OUTPUT_CLASSES)\n",
    "model.compile(\n",
    "    optimizer = \"adam\", \n",
    "    loss = tf.keras.losses.SparseCategoricalCrossentropy(from_logits = True),\n",
    "    metrics = [\"accuracy\"])\n"
   ]
  },
  {
   "cell_type": "code",
   "execution_count": null,
   "id": "38dd1157",
   "metadata": {},
   "outputs": [],
   "source": [
    "model_history = model.fit(\n",
    "    train_batches, epochs = EPOCHS,\n",
    "    steps_per_epoch = STEPS_PER_EPOCH,\n",
    "    validation_steps = VALIDATION_STEPS,\n",
    "    validation_data = test_batches,\n",
    "    callbacks = [DisplayCallback()]\n",
    ")"
   ]
  },
  {
   "cell_type": "code",
   "execution_count": null,
   "id": "1aa87314",
   "metadata": {},
   "outputs": [],
   "source": [
    "# Training Curve:\n",
    "loss = model_history.history['loss']\n",
    "val_loss = model_history.history['loss']\n",
    "\n",
    "plt.figure()\n",
    "plt.plot(model_history.epoch, loss, 'r', label = \"Training Loss\")\n",
    "plt.plot(model_history.epoch, val_loss, 'bo', label = \"Validation Loss\")\n",
    "plt.title(\"Training and Validation Loss\")\n",
    "plt.xlabel(\"Epoch\")\n",
    "plt.ylabel(\"Loss Value\")\n",
    "plt.ylim([0,1])\n",
    "plt.legend()\n",
    "plt.show()\n"
   ]
  },
  {
   "cell_type": "code",
   "execution_count": null,
   "id": "556c7d29",
   "metadata": {},
   "outputs": [],
   "source": [
    "# PREDICTIONS\n",
    "show_predictions(test_batches, 3)"
   ]
  }
 ],
 "metadata": {
  "kernelspec": {
   "display_name": "Python 3 (ipykernel)",
   "language": "python",
   "name": "python3"
  },
  "language_info": {
   "codemirror_mode": {
    "name": "ipython",
    "version": 3
   },
   "file_extension": ".py",
   "mimetype": "text/x-python",
   "name": "python",
   "nbconvert_exporter": "python",
   "pygments_lexer": "ipython3",
   "version": "3.7.10"
  }
 },
 "nbformat": 4,
 "nbformat_minor": 5
}
